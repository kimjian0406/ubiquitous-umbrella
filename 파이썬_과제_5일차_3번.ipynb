{
  "nbformat": 4,
  "nbformat_minor": 0,
  "metadata": {
    "colab": {
      "provenance": [],
      "authorship_tag": "ABX9TyOq9/gkYavamLUWy8rANt2r"
    },
    "kernelspec": {
      "name": "python3",
      "display_name": "Python 3"
    },
    "language_info": {
      "name": "python"
    }
  },
  "cells": [
    {
      "cell_type": "markdown",
      "source": [
        "<span style=\"font-size:100%\">\n",
        "\n",
        "수업은 모두 열심히 들으셨나요?\n",
        "\n",
        "간혹 강의에서 언급되지 않은 내용이 문제로 나올 수 있습니다.<br>\n",
        "그럴땐 강의 내용 외 문제는 구글링을 통해 해결해주세요<br></span>\n",
        "<span style=\"font-size:80%\">\n",
        "(구글링 또한 개발자가 갖쳐야할 역량 중에 하나랍니다 😊)\n",
        "</span>\n",
        "\n",
        "---"
      ],
      "metadata": {
        "id": "mgN7tGdDNqQN"
      }
    },
    {
      "cell_type": "markdown",
      "source": [
        "<span style=\"font-size:80%\">[문제1]<br><br></span>\n",
        "tuple과 list의 차이점으로 올바른 것을 모두 골라주세요\n",
        "\n",
        "1. list만 인덱싱이 가능해 원하는 값을 인덱스로 추출할 수 있다.\n",
        "2. tuple은 불변이고 list는 가변이다.\n",
        "3. tuple은 소괄호( () )를 사용하고 리스트는 대괄호( [ ] )를 사용한다.\n",
        "4. 튜플은 입출력이 자주 발행하는 경우 사용하고 리스트는 입출력이 자주 발생하지 않는 상황에 사용한다"
      ],
      "metadata": {
        "id": "Gg25KkI1NrFy"
      }
    },
    {
      "cell_type": "markdown",
      "source": [
        "답변 2,3 번"
      ],
      "metadata": {
        "id": "fh15boBsNsq3"
      }
    },
    {
      "cell_type": "markdown",
      "source": [
        "<span style=\"font-size:80%\">[문제2]<br><br></span>\n",
        "tuple a에 사용할 수 없는 코드를 골라주세요<br>\n",
        "a = (20, 10, 15)\n",
        "\n",
        "1. print(a[:])\n",
        "2. a.pop()\n",
        "3. sum(a)\n",
        "4. a.count(20)"
      ],
      "metadata": {
        "id": "l91otjLBNvbK"
      }
    },
    {
      "cell_type": "markdown",
      "source": [
        "답변 2번\n"
      ],
      "metadata": {
        "id": "Z31P8g0ON2Lr"
      }
    },
    {
      "cell_type": "markdown",
      "source": [
        "<span style=\"font-size:80%\">[문제3]<br><br></span>\n",
        "아래 코드를 실행시켰을 때 발생하는 상황과 원인을 간략히 설명해주세요\n",
        "\n",
        "```\n",
        "바구니 = ( \"상추\", \"깻잎\", \"삼겹살\")\n",
        "바구니[1] = \"고사리\"\n",
        "```"
      ],
      "metadata": {
        "id": "nczICA7oN3nx"
      }
    },
    {
      "cell_type": "markdown",
      "source": [
        "답변 : 튜플은 불변적이므로 값을 재할당 할 수 없기 때문애 오류가 발생한다"
      ],
      "metadata": {
        "id": "tToMyDrFOA2M"
      }
    }
  ]
}