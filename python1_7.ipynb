{
  "nbformat": 4,
  "nbformat_minor": 0,
  "metadata": {
    "colab": {
      "provenance": [],
      "authorship_tag": "ABX9TyMs0jolSGMhoLWzEUwvtcTC"
    },
    "kernelspec": {
      "name": "python3",
      "display_name": "Python 3"
    },
    "language_info": {
      "name": "python"
    }
  },
  "cells": [
    {
      "cell_type": "markdown",
      "source": [
        "안녕하세요. 수강생 여러분~!\n",
        "\n",
        "Chapter01 ~ 13의 수업 내용을 바탕으로 아래 문제를 풀어주시면 됩니다 !\n",
        "\n",
        "지금까지 잘 해오셨으니까, 총 복습한다고 생각하시고 한번 도전해보세요 !!!\n",
        "\n",
        "\n",
        "<br>\n",
        "\n",
        "\n",
        "[**답변 입력 방법**]\n",
        "\n",
        "문제 아래에 있는 코드 입력창에 정답코드를 작성하신 후  __▷ 버튼을 클릭해 코드를 실행__ 해보세요<br>"
      ],
      "metadata": {
        "id": "NBlIATxZWR3s"
      }
    },
    {
      "cell_type": "markdown",
      "source": [
        "### 프로젝트: 간단한 ATM 관리 시스템\n",
        "<br>\n",
        "\n",
        "__[문제 1: 잔액 확인]__\n",
        "\n",
        "현재 잔액은 1000원입니다. 현재 잔액을 출력하세요.\n",
        "\n",
        "(변수명 예시 : 잔액 - balance)"
      ],
      "metadata": {
        "id": "nSPuHnBjWTUB"
      }
    },
    {
      "cell_type": "code",
      "source": [
        "balance = 1000\n",
        "print(balance)"
      ],
      "metadata": {
        "colab": {
          "base_uri": "https://localhost:8080/"
        },
        "id": "UmpN334uWUyv",
        "outputId": "cb2cb443-f2d5-412f-ffb7-400ff0dafe8d"
      },
      "execution_count": 1,
      "outputs": [
        {
          "output_type": "stream",
          "name": "stdout",
          "text": [
            "1000\n"
          ]
        }
      ]
    },
    {
      "cell_type": "markdown",
      "source": [
        "__[문제 2: 입금]__\n",
        "\n",
        "가지고 있는 돈을 입금합니다.\n",
        "\n",
        "입금 금액을 입력받고, 잔액을 갱신한 후 새로운 잔액을 출력하세요. 입금 거래를 영수증 리스트에 기록하세요.\n",
        "\n",
        "- 입금 금액은 input()을 이용해 받습니다.\n",
        "- 영수증은 list()로 선언합니다.\n",
        "- 영수증에 들어가는 정보는 튜플 형태입니다.\n",
        "- 튜플에 담기는 정보는 (입금 or 출금, 입금 or 출금 금액, 현재 잔액)순 입니다.\n",
        "\n",
        "(변수명 예시: 영수증 리스트 - receipts, 입금 금액 - deposit_amount)\n"
      ],
      "metadata": {
        "id": "Nl623DHPWad5"
      }
    },
    {
      "cell_type": "code",
      "source": [
        "receipts = []\n",
        "\n",
        "\n",
        "#입금기능\n",
        "deposit_amount=int(input('입금할 금액을 입력해 주세요 : ')) # input은 str형태로 받음 int로 형변환\n",
        "balance += deposit_amount # 잔액에 입금금액 추가\n",
        "receipts.append(('입금', deposit_amount, balance))\n",
        "\n",
        "print(f'입금 금액은{deposit_amount}원, 현재 잔액은{balance}원입니다.')"
      ],
      "metadata": {
        "colab": {
          "base_uri": "https://localhost:8080/"
        },
        "id": "EM11zz8QWbZG",
        "outputId": "8c0bdfe7-79d4-458d-c7f0-5995ed9872a2"
      },
      "execution_count": 2,
      "outputs": [
        {
          "output_type": "stream",
          "name": "stdout",
          "text": [
            "입금할 금액을 입력해 주세요 : 30000\n",
            "입금 금액은30000원, 현재 잔액은31000원입니다.\n"
          ]
        }
      ]
    },
    {
      "cell_type": "markdown",
      "source": [
        "__[문제 3: 출금]__\n",
        "\n",
        "사용자가 돈을 출금합니다. 출금 금액을 입력받고, 잔액을 갱신한 후 새로운 잔액을 출력하세요. 출금 거래를 영수증 리스트에 기록하세요.\n",
        "\n",
        "- 출금 금액은 input()을 이용해 받습니다.\n",
        "- 현재 잔액보다 출금 요청 금액이 많을 경우 현재 잔액 만큼만 출금되도록 합니다.\n",
        "- 영수증에 들어가는 정보는 튜플 형태입니다.\n",
        "- 튜플에 담기는 정보는 (입금 or 출금, 입금 or 출금 금액, 현재 잔액)순 입니다.\n",
        "\n",
        "(변수명 예시: 출금금액 - withdraw_amount)"
      ],
      "metadata": {
        "id": "RH6c2QmTWjAH"
      }
    },
    {
      "cell_type": "code",
      "source": [
        "# 출금 기능\n",
        "withdraw_amount=int(input('출금할 금액을 입력해 주세요 : ')) # input은 str형태로 받음 int로 형변환\n",
        "withdraw_amount=min(balance, withdraw_amount)\n",
        "balance -= withdraw_amount # 잔액에 출금 금액 추가\n",
        "receipts.append(('출금', withdraw_amount, balance))\n",
        "\n",
        "print(f'출금 금액은{withdraw_amount}원, 현재 잔액은{balance}원입니다.')"
      ],
      "metadata": {
        "colab": {
          "base_uri": "https://localhost:8080/"
        },
        "id": "KhpK53gzWjxS",
        "outputId": "3327a3e1-bb24-40d4-a755-4737adfcc802"
      },
      "execution_count": 3,
      "outputs": [
        {
          "output_type": "stream",
          "name": "stdout",
          "text": [
            "출금할 금액을 입력해 주세요 : 29800\n",
            "출금 금액은29800원, 현재 잔액은1200원입니다.\n"
          ]
        }
      ]
    },
    {
      "cell_type": "markdown",
      "source": [
        "__[문제 4: 모든 거래 내역 확인]__\n",
        "\n",
        "모든 거래 내역(영수증)을 요청받았을 때 출력하세요.\n",
        "- 지금까지 영수증에 추가된 정보를 출력합니다.\n",
        "- 출력 형태는 자유입니다."
      ],
      "metadata": {
        "id": "YM-ElqBXWpXU"
      }
    },
    {
      "cell_type": "code",
      "source": [
        "#영수증 내역 출력\n",
        "print(receipts)"
      ],
      "metadata": {
        "id": "kxnFe8ABWqDO",
        "outputId": "e8ce0f0b-7fea-48f4-ded1-9cec7ac8971c",
        "colab": {
          "base_uri": "https://localhost:8080/"
        }
      },
      "execution_count": 4,
      "outputs": [
        {
          "output_type": "stream",
          "name": "stdout",
          "text": [
            "[('입금', 30000, 31000), ('출금', 29800, 1200)]\n"
          ]
        }
      ]
    }
  ]
}