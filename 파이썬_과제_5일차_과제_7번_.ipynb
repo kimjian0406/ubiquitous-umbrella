{
  "nbformat": 4,
  "nbformat_minor": 0,
  "metadata": {
    "colab": {
      "provenance": [],
      "authorship_tag": "ABX9TyPeSiHG3jZ1qyARRLh6A4U8"
    },
    "kernelspec": {
      "name": "python3",
      "display_name": "Python 3"
    },
    "language_info": {
      "name": "python"
    }
  },
  "cells": [
    {
      "cell_type": "markdown",
      "source": [
        "컴퓨터 기초 지식을 의미하는 CS(Computer science)는<br>\n",
        "코딩 테스트와 함께 기술 면접에서 지원자에게 필수적으로 요구합니다.<br>\n",
        "\n",
        "수업 내용 중 기술 면접에 자주 나오는 질문 3가지와 기본적으로 알아야 할 내용 과제로 선정했습니다.<br>\n",
        "\n",
        "관련 내용에 대해서는 구글링 또는 관련 서적을 통해 상세히 공부하시고<br>\n",
        "답변은 최대한 핵심만 담아 간결하게 작성해주세요<br>\n",
        "\n",
        "기술 블로그를 운영 중이신 경우<br>\n",
        "답변 내용을 기술 블로그에 작성하신 후 링크를 답변에 남겨주셔도 됩니다.<br>"
      ],
      "metadata": {
        "id": "77ACS70_Y9Xy"
      }
    },
    {
      "cell_type": "markdown",
      "source": [
        "[문제1]\n",
        "\n",
        "list와 tuple의 주된 차이점은 무엇인가요?"
      ],
      "metadata": {
        "id": "J3nxkezjY-qR"
      }
    },
    {
      "cell_type": "markdown",
      "source": [
        "답변 :list는 할당된 데이터를 추가, 삭제, 변경이 가능하고 모든 해시코드를 값으로 넣을 수 있다.\n",
        "tuple은 불변성을 지니고 한번 데이터를 할당하면 데이터를 변경할 수 없다."
      ],
      "metadata": {
        "id": "qrocgtftZAND"
      }
    },
    {
      "cell_type": "markdown",
      "source": [
        "[문제2]\n",
        "\n",
        "Python의 set에 대해 설명해주세요"
      ],
      "metadata": {
        "id": "Ei9kvjaoZDkg"
      }
    },
    {
      "cell_type": "markdown",
      "source": [
        "답변 : 수학같은 의미로 집합이며 중복을 허용하지 않고 배열에 순서가 없다"
      ],
      "metadata": {
        "id": "BLYUH_BCZFfu"
      }
    },
    {
      "cell_type": "markdown",
      "source": [
        "[문제3]\n",
        "\n",
        "Python의 list는 연결리스트(linked list)인가요?"
      ],
      "metadata": {
        "id": "x301AfFhba3f"
      }
    },
    {
      "cell_type": "markdown",
      "source": [
        "연결 리스트(Linked List)는 동적으로 새로운 노드를 삽입하거나 삭제하기가 편하며, 그 관리 또한 편하다는 장점이 있다.\n",
        "파이썬의 경우에는 리스트(List) 자료형에 연결 리스트의 기능이 포함되어 있는 형태이고, 더 정확하게는 C, C++ 등에서 배열과 연결 리스트는 엄격하게 구분돼서 사용된다."
      ],
      "metadata": {
        "id": "rP4GBLZ7bcbp"
      }
    },
    {
      "cell_type": "markdown",
      "source": [
        "\n",
        "[문제4]\n",
        "\n",
        "딕셔너리 자료형에 대해 설명해주세요."
      ],
      "metadata": {
        "id": "lwIT8rRPcQgx"
      }
    },
    {
      "cell_type": "markdown",
      "source": [
        "key와 valued의 값으로 이루어져 있으며 여러개의 값이 일렬로 정렬되며 값끼리의 연관성이 존해하고 또한 다른 시퀀스 자료형과는 다르게 인덱싱이 안된다"
      ],
      "metadata": {
        "id": "2hmVQAE8b3-C"
      }
    }
  ]
}