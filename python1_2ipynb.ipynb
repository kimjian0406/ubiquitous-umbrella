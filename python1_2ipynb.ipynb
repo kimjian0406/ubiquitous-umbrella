{
  "nbformat": 4,
  "nbformat_minor": 0,
  "metadata": {
    "colab": {
      "provenance": [],
      "authorship_tag": "ABX9TyNLpDbAuxfrB1XiJN+h3o/c"
    },
    "kernelspec": {
      "name": "python3",
      "display_name": "Python 3"
    },
    "language_info": {
      "name": "python"
    }
  },
  "cells": [
    {
      "cell_type": "markdown",
      "source": [
        "<span style=\"font-size:100%\">\n",
        "\n",
        "수업은 모두 열심히 들으셨나요?\n",
        "\n",
        "간혹 강의에서 언급되지 않은 내용이 문제로 나올 수 있습니다.<br>\n",
        "그럴땐 강의 내용 외 문제는 구글링을 통해 해결해주세요<br></span>\n",
        "<span style=\"font-size:80%\">\n",
        "(구글링 또한 개발자가 갖쳐야할 역량 중에 하나랍니다 😊)\n",
        "</span>\n",
        "\n",
        "---"
      ],
      "metadata": {
        "id": "WIrTeOONRO38"
      }
    },
    {
      "cell_type": "markdown",
      "source": [
        "<span style=\"font-size:80%\">[문제1]<br><br></span>\n",
        "아래 코드의 실행 결과로 올바른 것을 골라주세요<br>\n",
        "\n",
        "print(' * ', ' * ', ' * ', ' * ', ' * ', ' * ', sep='x')\n",
        "\n",
        "```\n",
        "1. x*x*x*x*x*x*\n",
        "2. ******\n",
        "3. ***x***\n",
        "4. *x*x*x*x*x*\n",
        "```\n",
        "\n",
        "답변 4번"
      ],
      "metadata": {
        "id": "f9G-36fnRQVd"
      }
    },
    {
      "cell_type": "markdown",
      "source": [
        "<span style=\"font-size:80%\">[문제2]<br><br></span>\n",
        "두 개의 값을 입력 받아 실수로 x와 y 변수에 저장하는 코드를 골라 주세요\n",
        "\n",
        "\n",
        "1. x, y = input('실수를 입력하세요: ')\n",
        "2. x, y = input('실수를 입력하세요: ').split()\n",
        "3. x = input('실수를 입력하세요'); y = input('실수를 입력하세요')\n",
        "4. x, y = map(float, input('실수를 입력하세요: ').split())\n",
        "\n",
        "답변 4번"
      ],
      "metadata": {
        "id": "A1NRpXrSRTGz"
      }
    },
    {
      "cell_type": "markdown",
      "source": [
        "<span style=\"font-size:80%\">[문제3]<br><br></span>\n",
        "\n",
        "아래와 같이 주어졌을때 실행 결과와 동일하게 출력되기 위해 1)과 2) 들어갈 코드를 작성해주세요\n",
        "\n",
        "```\n",
        "month = 12\n",
        "day = 25\n",
        "hour = 12\n",
        "minute = 30\n",
        "\n",
        "print(month, day, 1)________)\n",
        "print(hour, minute, 2)_______)\n",
        "\n",
        "```\n",
        "\n",
        "답변: 1) 12.25,   2) 12:30"
      ],
      "metadata": {
        "id": "9eNtONz6RXc9"
      }
    }
  ]
}