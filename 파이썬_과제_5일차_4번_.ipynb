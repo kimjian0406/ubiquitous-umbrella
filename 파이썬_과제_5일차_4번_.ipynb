{
  "nbformat": 4,
  "nbformat_minor": 0,
  "metadata": {
    "colab": {
      "provenance": [],
      "authorship_tag": "ABX9TyMfSoGUtRNdOTeRrg8CWyPP"
    },
    "kernelspec": {
      "name": "python3",
      "display_name": "Python 3"
    },
    "language_info": {
      "name": "python"
    }
  },
  "cells": [
    {
      "cell_type": "markdown",
      "source": [
        "<span style=\"font-size:100%\">\n",
        "\n",
        "수업은 모두 열심히 들으셨나요?\n",
        "\n",
        "간혹 강의에서 언급되지 않은 내용이 문제로 나올 수 있습니다.<br>\n",
        "그럴땐 강의 내용 외 문제는 구글링을 통해 해결해주세요<br></span>\n",
        "<span style=\"font-size:80%\">\n",
        "(구글링 또한 개발자가 갖쳐야할 역량 중에 하나랍니다 😊)\n",
        "</span>\n",
        "\n",
        "---"
      ],
      "metadata": {
        "id": "LG8ZwG03POVn"
      }
    },
    {
      "cell_type": "markdown",
      "source": [
        "<span style=\"font-size:80%\">[문제1]<br><br></span>\n",
        "세트 money의 결과로 올바른 것을 골라주세요\n",
        "\n",
        "money = { '만원', '만원', '오만원', '백원', '오만원', '십원' }\n",
        "\n",
        "1. { '백원', '십원' }\n",
        "2. {'만원', '백원', '십원', '오만원'}\n",
        "3. {'만원', '백원', '십원'}\n",
        "4. {'만원',  '오만원'}"
      ],
      "metadata": {
        "id": "EcVSRHi7PSqC"
      }
    },
    {
      "cell_type": "markdown",
      "source": [
        "답변 : 2번\n"
      ],
      "metadata": {
        "id": "XvOeuY-_PUi1"
      }
    },
    {
      "cell_type": "markdown",
      "source": [
        "<span style=\"font-size:80%\">[문제2]<br><br></span>\n",
        "세트 x = {3, 6, 9} 그리고 y = {1, 2, 3}가 있을 때, 집합 연산의 결과로 잘못된 것을 모두 고르세요\n",
        "\n",
        "1. set.union(x, y)는 {1, 2, 3, 6, 9}\n",
        "2. x ^ y는 {1, 3, 6}\n",
        "3. x - y는 {6, 9}\n",
        "4. x & y는 { 3 }\n",
        "5. set.difference(y, x)는 { 2 }"
      ],
      "metadata": {
        "id": "HJABYabCPwbk"
      }
    },
    {
      "cell_type": "markdown",
      "source": [
        "답변 : 2번, 5번"
      ],
      "metadata": {
        "id": "gdm7V8jzQBkH"
      }
    },
    {
      "cell_type": "markdown",
      "source": [
        "<span style=\"font-size:80%\">[문제3]<br><br></span>\n",
        "과일 바구니 안에 두리안이 있는지 확인하기 위한 코드를 작성해 주세요\n",
        "\n",
        "과일_바구니 = {'사과', '포도', '샤인머스켓', '두리안'}"
      ],
      "metadata": {
        "id": "Cg1VzvMrQ-XP"
      }
    },
    {
      "cell_type": "code",
      "source": [
        "과일_바구니 = {'사과','포도', '샤인머스켓', '두리안'}\n",
        "'두리안' in  과일_바구니"
      ],
      "metadata": {
        "colab": {
          "base_uri": "https://localhost:8080/"
        },
        "id": "xBVLlH2zQ_cn",
        "outputId": "8b0ab8a4-fa36-4fd0-ddfc-a98f7776cff4"
      },
      "execution_count": 2,
      "outputs": [
        {
          "output_type": "execute_result",
          "data": {
            "text/plain": [
              "True"
            ]
          },
          "metadata": {},
          "execution_count": 2
        }
      ]
    },
    {
      "cell_type": "markdown",
      "source": [
        "답변 : 두리안 과일 바구니"
      ],
      "metadata": {
        "id": "RKYKjKYsRH5n"
      }
    },
    {
      "cell_type": "markdown",
      "source": [
        "<span style=\"font-size:80%\">[문제4]<br><br></span>\n",
        "메서드와 연산자의 기능이 잘못 짝지어진 것을 골라주세요\n",
        "\n",
        "1. set.intersection은 &와 같다.\n",
        "2. set.update는 |=와 같다.\n",
        "3. symmetric_difference_update는 -=와 같다.\n",
        "4. issuperset은 >와 같다.\n",
        "5. set.union은 |와 같다."
      ],
      "metadata": {
        "id": "qBsZ6WSTRL3i"
      }
    },
    {
      "cell_type": "markdown",
      "source": [
        "답변 :2번 , 3번"
      ],
      "metadata": {
        "id": "aPwlaGLPRaMK"
      }
    },
    {
      "cell_type": "markdown",
      "source": [
        "<span style=\"font-size:80%\">[문제5]<br><br></span>\n",
        "세트를 만드는 방법으로 올바르지 않은 것을 골라주세요\n",
        "\n",
        "1. x = {1, 2, 3, 4, 5}\n",
        "2. x = { }\n",
        "3. x = set('hello')\n",
        "4. x  = set(range(10))\n",
        "5. x = set()"
      ],
      "metadata": {
        "id": "T1wOjIJvRj_E"
      }
    },
    {
      "cell_type": "markdown",
      "source": [
        "답변 : 2번"
      ],
      "metadata": {
        "id": "-p7xOhEeRmZf"
      }
    }
  ]
}