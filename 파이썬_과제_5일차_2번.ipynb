{
  "nbformat": 4,
  "nbformat_minor": 0,
  "metadata": {
    "colab": {
      "provenance": [],
      "authorship_tag": "ABX9TyNomUc2KdeoBcK/0SFxeKY5"
    },
    "kernelspec": {
      "name": "python3",
      "display_name": "Python 3"
    },
    "language_info": {
      "name": "python"
    }
  },
  "cells": [
    {
      "cell_type": "markdown",
      "source": [
        "<span style=\"font-size:100%\">\n",
        "\n",
        "수업은 모두 열심히 들으셨나요?\n",
        "\n",
        "간혹 강의에서 언급되지 않은 내용이 문제로 나올 수 있습니다.<br>\n",
        "그럴땐 강의 내용 외 문제는 구글링을 통해 해결해주세요<br></span>\n",
        "<span style=\"font-size:80%\">\n",
        "(구글링 또한 개발자가 갖쳐야할 역량 중에 하나랍니다 😊)\n",
        "</span>\n",
        "\n",
        "---"
      ],
      "metadata": {
        "id": "0knEx967L8dv"
      }
    },
    {
      "cell_type": "markdown",
      "source": [
        "<span style=\"font-size:80%\">[문제1]<br><br></span>\n",
        "아래 리스트에 들어있는 값의 평균을 구하는 코드를 작성해주세요\n",
        "\n",
        "x = [34, 22, 10, 3, 55, 66]"
      ],
      "metadata": {
        "id": "n_gKIpk7MDCI"
      }
    },
    {
      "cell_type": "code",
      "source": [
        "x = [34, 22, 10, 3, 55, 66]\n",
        "sum(x)/len(x)"
      ],
      "metadata": {
        "colab": {
          "base_uri": "https://localhost:8080/"
        },
        "id": "j9YAr_SqMEvB",
        "outputId": "f861ced7-ef46-40d9-99dd-8184b2c5615b"
      },
      "execution_count": 1,
      "outputs": [
        {
          "output_type": "execute_result",
          "data": {
            "text/plain": [
              "31.666666666666668"
            ]
          },
          "metadata": {},
          "execution_count": 1
        }
      ]
    },
    {
      "cell_type": "markdown",
      "source": [
        "<span style=\"font-size:80%\">[문제2]<br><br></span>\n",
        "리스트 안에 있는 데이터를 오름차순으로 정렬하는 메소드를 모두 골라주세요\n",
        "\n",
        "1. upper()\n",
        "2. low()\n",
        "3. sort()\n",
        "4. hight()\n",
        "5. sorted()"
      ],
      "metadata": {
        "id": "5m_tDj9aMPdL"
      }
    },
    {
      "cell_type": "markdown",
      "source": [
        "답변 : 3,5 번"
      ],
      "metadata": {
        "id": "m6oRiUz9MSQa"
      }
    },
    {
      "cell_type": "markdown",
      "source": [
        "<span style=\"font-size:80%\">[문제3]<br><br></span>\n",
        "리스트 x가 있을 때 x.append(7)과 결과가 동일한 것을 모두 골라주세요\n",
        "\n",
        "\n",
        "1. x[-1:] = [7]\n",
        "2. x.insert(len(x), 7)\n",
        "3. x[0:] = 7\n",
        "4. x[len(x):] = 7\n",
        "5. x[len(x):] = [7]"
      ],
      "metadata": {
        "id": "H6AXMQc8Md1q"
      }
    },
    {
      "cell_type": "code",
      "source": [
        "124"
      ],
      "metadata": {
        "colab": {
          "base_uri": "https://localhost:8080/"
        },
        "id": "X0SpJVu0MlMq",
        "outputId": "7310e808-e63f-47d0-cc25-c62c13e15422"
      },
      "execution_count": 2,
      "outputs": [
        {
          "output_type": "execute_result",
          "data": {
            "text/plain": [
              "124"
            ]
          },
          "metadata": {},
          "execution_count": 2
        }
      ]
    },
    {
      "cell_type": "markdown",
      "source": [
        "답변 : 1,2,4"
      ],
      "metadata": {
        "id": "07gI2nhbM2F_"
      }
    },
    {
      "cell_type": "markdown",
      "source": [
        "<span style=\"font-size:80%\">[문제4]<br><br></span>\n",
        "리스트의 모든 요소를 삭제하는 메서드를 골라주세요\n",
        "\n",
        "1. remove\n",
        "2. clean\n",
        "3. pop\n",
        "4. clear\n",
        "5. reverse"
      ],
      "metadata": {
        "id": "pirDQ2ckM_lA"
      }
    },
    {
      "cell_type": "markdown",
      "source": [
        "답변 : 4번"
      ],
      "metadata": {
        "id": "GvkFxIDPNBVB"
      }
    },
    {
      "cell_type": "markdown",
      "source": [
        "<span style=\"font-size:80%\">[문제5]<br><br></span>\n",
        "[3.1, 6.7, 4.4]가 들어있는 리스트의 값을 문자열로 변환 후 다시 리스트로 만들어 변수 x에 담는 코드를 골라주세요\n",
        "\n",
        "1. x = list(str, [3.1, 6.7, 4.4])\n",
        "2. x = map(str, [3.1, 6.7, 4.4])\n",
        "3. x = str([3.1, 6.7, 4.4])\n",
        "4. x = list(map(str, [3.1, 6.7, 4.4]))\n",
        "5. x = map(int, [3.1, 6.7, 4.4])"
      ],
      "metadata": {
        "id": "2B0RvIUuNEM7"
      }
    },
    {
      "cell_type": "markdown",
      "source": [
        "답변 : 2번"
      ],
      "metadata": {
        "id": "K_3DqEaZNFSm"
      }
    }
  ]
}